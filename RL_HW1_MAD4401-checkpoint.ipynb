{
 "cells": [
  {
   "cell_type": "code",
   "execution_count": 21,
   "id": "edfc1cb4",
   "metadata": {},
   "outputs": [
    {
     "name": "stdout",
     "output_type": "stream",
     "text": [
      "Approximate square root of 2: 11.44552280753851\n",
      "Iterations: 26\n",
      "Relative Error: 2.9244717259276696e-08\n"
     ]
    }
   ],
   "source": [
    "import numpy as np\n",
    "# Define the function to aprox square root\n",
    "def my_sqrt(a, tol=1e-5, max_iter=1000):\n",
    "    if a < 0:\n",
    "        return \"Input should be positive\"\n",
    "    # Initialize interval\n",
    "    if a < 1:\n",
    "        low = a\n",
    "        high = 1.0\n",
    "    else:\n",
    "        low = 0.0\n",
    "        high = a\n",
    "        # Initialize iteration counter\n",
    "    iter_count = 0\n",
    "    # Compute midpoint \n",
    "    mid = (low + high) / 2.0\n",
    "    # Start biscetion loop: continue until difference b/w mid^2 is less than \n",
    "    # tolerance or max number of iterations is reached\n",
    "    while abs(mid**2 - a) > tol and iter_count < max_iter:\n",
    "        if mid**2 < a:\n",
    "            low = mid\n",
    "        else:\n",
    "            high = mid\n",
    "        # Compute new midpoint\n",
    "        mid = (low + high) / 2.0\n",
    "        # Increment iteration counter\n",
    "        iter_count += 1\n",
    "    # Return approx square root and number of iterations\n",
    "    return mid, iter_count\n",
    "\n",
    "true_sqrt = np.sqrt(131)\n",
    "\n",
    "result, iterations = my_sqrt(131)\n",
    "print(f\"Approximate square root of 2: {result}\")\n",
    "print(f\"Iterations: {iterations}\")     \n",
    "print(f\"Relative Error: {np.abs((true_sqrt - result) / true_sqrt)}\")  \n",
    "   "
   ]
  },
  {
   "cell_type": "code",
   "execution_count": null,
   "id": "6f5fa449",
   "metadata": {},
   "outputs": [],
   "source": []
  },
  {
   "cell_type": "code",
   "execution_count": 17,
   "id": "b5938255",
   "metadata": {},
   "outputs": [],
   "source": [
    "\n"
   ]
  },
  {
   "cell_type": "code",
   "execution_count": null,
   "id": "64c6e04a",
   "metadata": {},
   "outputs": [],
   "source": []
  },
  {
   "cell_type": "code",
   "execution_count": null,
   "id": "5aa38496",
   "metadata": {},
   "outputs": [],
   "source": []
  },
  {
   "cell_type": "code",
   "execution_count": null,
   "id": "1e931a13",
   "metadata": {},
   "outputs": [],
   "source": []
  },
  {
   "cell_type": "code",
   "execution_count": null,
   "id": "92b2abac",
   "metadata": {},
   "outputs": [],
   "source": []
  },
  {
   "cell_type": "code",
   "execution_count": null,
   "id": "d94a1636",
   "metadata": {},
   "outputs": [],
   "source": []
  }
 ],
 "metadata": {
  "kernelspec": {
   "display_name": "Python 3 (ipykernel)",
   "language": "python",
   "name": "python3"
  },
  "language_info": {
   "codemirror_mode": {
    "name": "ipython",
    "version": 3
   },
   "file_extension": ".py",
   "mimetype": "text/x-python",
   "name": "python",
   "nbconvert_exporter": "python",
   "pygments_lexer": "ipython3",
   "version": "3.11.4"
  }
 },
 "nbformat": 4,
 "nbformat_minor": 5
}
